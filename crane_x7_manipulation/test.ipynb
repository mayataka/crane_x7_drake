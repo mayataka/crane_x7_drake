{
 "cells": [
  {
   "cell_type": "code",
   "execution_count": 1,
   "metadata": {},
   "outputs": [],
   "source": [
    "from pydrake.systems.framework import DiagramBuilder\n",
    "from pydrake.systems.analysis import Simulator\n",
    "from pydrake.multibody.plant import AddMultibodyPlantSceneGraph, MultibodyPlant\n",
    "from pydrake.multibody.parsing import Parser\n",
    "from pydrake.geometry import Meshcat, MeshcatVisualizerCpp\n",
    "from pydrake.common.eigen_geometry import Quaternion, AngleAxis\n",
    "from pydrake.math import RigidTransform, RotationMatrix\n",
    "from pydrake.trajectories import PiecewisePose, PiecewisePolynomial\n",
    "from pydrake.systems.primitives import TrajectorySource, Multiplexer, ConstantVectorSource\n",
    "\n",
    "import numpy as np\n",
    "\n",
    "from crane_x7_manipulation import crane_x7_station, end_effector_trajectory, meshcat_utils\n",
    "\n",
    "\n",
    "URDF_PATH = 'rsc/crane_x7_description/crane_x7.urdf'"
   ]
  },
  {
   "cell_type": "code",
   "execution_count": 2,
   "metadata": {},
   "outputs": [
    {
     "name": "stderr",
     "output_type": "stream",
     "text": [
      "[2021-10-20 21:36:18.078] [console] [info] Meshcat listening for connections at http://localhost:7000\n"
     ]
    },
    {
     "data": {
      "text/html": [
       "Meshcat is now available at <a href=\"http://localhost:7000\">http://localhost:7000</a>"
      ],
      "text/plain": [
       "<IPython.core.display.HTML object>"
      ]
     },
     "metadata": {},
     "output_type": "display_data"
    },
    {
     "data": {
      "application/javascript": [
       "window.open(\"http://localhost:7000\");"
      ],
      "text/plain": [
       "<IPython.core.display.Javascript object>"
      ]
     },
     "metadata": {},
     "output_type": "display_data"
    }
   ],
   "source": [
    "meshcat = meshcat_utils.start_meshcat(True)"
   ]
  },
  {
   "cell_type": "code",
   "execution_count": 3,
   "metadata": {},
   "outputs": [],
   "source": [
    "def create_model(urdf_path):\n",
    "    station = crane_x7_station.CraneX7Station(urdf_path)\n",
    "    plant, model = station.create_crane_x7_plant()\n",
    "    plant.Finalize()\n",
    "    context = plant.CreateDefaultContext()\n",
    "\n",
    "    plant.SetPositions(context, [-1.57, 0.1, 0, 0, 0, 1.6, 0, 0, 0]) # 7DOF (arm) + 2DOF (gripper)\n",
    "    plant.GetJointByName(\"crane_x7_upper_arm_revolute_part_rotate_joint\").set_angle(context, -1.2)\n",
    "    plant.get_actuation_input_port().FixValue(context, np.zeros(9)) # 7DOF (arm) + 2DOF (gripper)\n",
    "    simulator = Simulator(plant, context)\n",
    "    simulator.AdvanceTo(5.0)"
   ]
  },
  {
   "cell_type": "code",
   "execution_count": 4,
   "metadata": {},
   "outputs": [],
   "source": [
    "create_model(URDF_PATH)"
   ]
  },
  {
   "cell_type": "code",
   "execution_count": 5,
   "metadata": {},
   "outputs": [],
   "source": [
    "def create_model_scene_graph(urdf_path):\n",
    "    builder = DiagramBuilder()\n",
    "\n",
    "    station = crane_x7_station.CraneX7Station(urdf_path)\n",
    "    plant, model, scene_graph = station.create_crane_x7_plant_scene_graph(\n",
    "        builder=builder, time_step=1.0e-03)\n",
    "    plant.Finalize()\n",
    "\n",
    "    visualizer = MeshcatVisualizerCpp.AddToBuilder(builder, scene_graph, meshcat)\n",
    "    diagram = builder.Build()\n",
    "    context = diagram.CreateDefaultContext()\n",
    "    diagram.Publish(context)\n",
    "\n",
    "    plant_context = plant.GetMyMutableContextFromRoot(context)\n",
    "    plant.SetPositions(plant_context, station.get_home_position()) # 7DOF (arm) + 2DOF (gripper)\n",
    "    plant.get_actuation_input_port().FixValue(plant_context, np.zeros(9)) # 7DOF (arm) + 2DOF (gripper)\n",
    "\n",
    "    # real time simulation on \n",
    "    simulator = Simulator(diagram, context)\n",
    "    simulator.set_target_realtime_rate(1.0)\n",
    "    simulator.AdvanceTo(5.0)"
   ]
  },
  {
   "cell_type": "code",
   "execution_count": 6,
   "metadata": {},
   "outputs": [],
   "source": [
    "create_model_scene_graph(URDF_PATH)"
   ]
  },
  {
   "cell_type": "code",
   "execution_count": 52,
   "metadata": {},
   "outputs": [],
   "source": [
    "def make_gripper_frames(X_G, X_O):\n",
    "    # Define the gripper pose relative to the object when in grasp.\n",
    "    p_GgraspO = [0, 0.0, 0]\n",
    "    R_GgraspO = RotationMatrix.MakeXRotation(np.pi/2.0).multiply(RotationMatrix.MakeZRotation(np.pi/2.0))\n",
    "    X_GgraspO = RigidTransform(R_GgraspO, p_GgraspO)\n",
    "    X_OGgrasp = X_GgraspO.inverse()\n",
    "    # pregrasp is negative y in the gripper.\n",
    "    X_GgraspGpregrasp = RigidTransform([0, -0.10, 0])\n",
    "\n",
    "    X_G[\"pick\"] = X_O[\"initial\"].multiply(X_OGgrasp)\n",
    "    X_G[\"prepick\"] = X_G[\"pick\"].multiply(X_GgraspGpregrasp)\n",
    "    X_G[\"place\"] = X_O[\"goal\"].multiply(X_OGgrasp)\n",
    "    X_G[\"preplace\"] = X_G[\"place\"].multiply(X_GgraspGpregrasp)\n",
    "\n",
    "    # I'll interpolate a halfway orientation by converting to axis angle and halving the angle.\n",
    "    X_GprepickGpreplace = X_G[\"prepick\"].inverse().multiply(X_G[\"preplace\"])\n",
    "    angle_axis = X_GprepickGpreplace.rotation().ToAngleAxis()\n",
    "    X_GprepickGclearance = RigidTransform(AngleAxis(angle=angle_axis.angle()/2.0, axis=angle_axis.axis()), \n",
    "                                          X_GprepickGpreplace.translation()/2.0 + np.array([0, -0.1, 0]))\n",
    "    X_G[\"clearance\"] = X_G[\"prepick\"].multiply(X_GprepickGclearance)\n",
    "\n",
    "    # Now let's set the timing\n",
    "    times = {\"initial\": 0}\n",
    "    X_GinitialGprepick = X_G[\"initial\"].inverse().multiply(X_G[\"prepick\"])\n",
    "    times[\"prepick\"] = times[\"initial\"] + 10.0*np.linalg.norm(X_GinitialGprepick.translation())\n",
    "    # Allow some time for the gripper to close.\n",
    "    times[\"pick_start\"] = times[\"prepick\"] + 2.0\n",
    "    times[\"pick_end\"] = times[\"pick_start\"] + 2.0\n",
    "    X_G[\"pick_start\"] = X_G[\"pick\"]\n",
    "    X_G[\"pick_end\"] = X_G[\"pick\"]\n",
    "    times[\"postpick\"] = times[\"pick_end\"] + 2.0\n",
    "    X_G[\"postpick\"] = X_G[\"prepick\"]\n",
    "    time_to_from_clearance = 10.0*np.linalg.norm(X_GprepickGclearance.translation())\n",
    "    times[\"clearance\"] = times[\"postpick\"] + time_to_from_clearance\n",
    "    times[\"preplace\"] = times[\"clearance\"] + time_to_from_clearance\n",
    "    times[\"place_start\"] = times[\"preplace\"] + 2.0\n",
    "    times[\"place_end\"] = times[\"place_start\"] + 2.0\n",
    "    X_G[\"place_start\"] = X_G[\"place\"]\n",
    "    X_G[\"place_end\"] = X_G[\"place\"]\n",
    "    times[\"postplace\"] = times[\"place_end\"] + 2.0\n",
    "    X_G[\"postplace\"] = X_G[\"preplace\"]\n",
    "\n",
    "    return X_G, times\n",
    "\n",
    "\n",
    "def make_gripper_trajectory(X_G, times):\n",
    "    sample_times = []\n",
    "    poses = []\n",
    "    for name in [\"initial\", \"prepick\", \"pick_start\", \"pick_end\", \"postpick\",\n",
    "                 \"clearance\", \"preplace\", \"place_start\", \"place_end\",\n",
    "                 \"postplace\"]:\n",
    "        sample_times.append(times[name])\n",
    "        poses.append(X_G[name])\n",
    "\n",
    "    return PiecewisePose.MakeLinear(sample_times, poses)\n",
    "\n",
    "\n",
    "def create_differential_ik_controller(urdf_path):\n",
    "    builder = DiagramBuilder()\n",
    "\n",
    "    station = crane_x7_station.CraneX7Station(urdf_path)\n",
    "    plant, model, scene_graph = station.create_crane_x7_plant_scene_graph(\n",
    "        builder=builder, time_step=1.0e-03)\n",
    "    plant.Finalize()\n",
    "\n",
    "    visualizer = MeshcatVisualizerCpp.AddToBuilder(builder, scene_graph, meshcat)\n",
    "    diff_ik = builder.AddSystem(station.create_diff_ik())\n",
    "    invdyn_controller = builder.AddSystem(station.create_invdyn_controller())\n",
    "    X_O = {\"initial\": RigidTransform(RotationMatrix.MakeZRotation(np.pi/2.0), [0.3, 0.0, 0.08]),\n",
    "           \"goal\": RigidTransform(RotationMatrix.MakeZRotation(np.pi), [0.2, 0.2, 0.08])}\n",
    "    temp_context = plant.CreateDefaultContext()\n",
    "    temp_plant_context = plant.GetMyContextFromRoot(temp_context)\n",
    "    plant.SetPositions(temp_plant_context, station.get_home_position()) \n",
    "    X_G = {\"initial\": plant.EvalBodyPoseInWorld(temp_plant_context, plant.GetBodyByName(station.end_effector_name))}\n",
    "    \n",
    "    gripper_frames, times = make_gripper_frames(X_G, X_O)\n",
    "    print(f\"Sanity check: The entire maneuver will take {times['postplace']} seconds to execute.\")\n",
    "\n",
    "    gripper_traj = make_gripper_trajectory(gripper_frames, times)\n",
    "    \n",
    "    X_WE_traj = builder.AddSystem(end_effector_trajectory.EndEffectorTrajectory(station, gripper_traj))\n",
    "    X_WE_traj.set_name(\"X_WE\")\n",
    "\n",
    "    builder.Connect(X_WE_traj.get_output_port(),\n",
    "                    diff_ik.get_input_port())\n",
    "    desired_state = builder.AddSystem(Multiplexer([9, 9]))\n",
    "    desired_velocity = builder.AddSystem(ConstantVectorSource(np.zeros(9)))\n",
    "    builder.Connect(diff_ik.get_output_port(),\n",
    "                    desired_state.get_input_port(0))\n",
    "    builder.Connect(desired_velocity.get_output_port(),\n",
    "                    desired_state.get_input_port(1))\n",
    "    builder.Connect(desired_state.get_output_port(),\n",
    "                    invdyn_controller.get_input_port_desired_state())\n",
    "    builder.Connect(plant.get_state_output_port(),\n",
    "                    invdyn_controller.get_input_port_estimated_state())\n",
    "    builder.Connect(invdyn_controller.get_output_port_control(), \n",
    "                    plant.get_actuation_input_port())\n",
    "    \n",
    "    diagram = builder.Build()\n",
    "    context = diagram.CreateDefaultContext()\n",
    "    diagram.Publish(context)\n",
    "    plant_context = plant.GetMyMutableContextFromRoot(context)\n",
    "    plant.SetPositions(plant_context, station.get_home_position()) \n",
    "    diff_ik_context = diff_ik.GetMyMutableContextFromRoot(context)\n",
    "    diff_ik.SetPositions(diff_ik_context, station.get_home_position()) \n",
    "\n",
    "    simulator = Simulator(diagram, context)\n",
    "    simulator.set_target_realtime_rate(1.0)\n",
    "    \n",
    "    simulator.AdvanceTo(20)"
   ]
  },
  {
   "cell_type": "code",
   "execution_count": 53,
   "metadata": {},
   "outputs": [
    {
     "name": "stdout",
     "output_type": "stream",
     "text": [
      "Sanity check: The entire maneuver will take 16.698858208446662 seconds to execute.\n"
     ]
    }
   ],
   "source": [
    "create_differential_ik_controller(URDF_PATH)"
   ]
  },
  {
   "cell_type": "code",
   "execution_count": null,
   "metadata": {},
   "outputs": [],
   "source": []
  },
  {
   "cell_type": "code",
   "execution_count": null,
   "metadata": {},
   "outputs": [],
   "source": []
  }
 ],
 "metadata": {
  "interpreter": {
   "hash": "aee8b7b246df8f9039afb4144a1f6fd8d2ca17a180786b69acc140d282b71a49"
  },
  "kernelspec": {
   "display_name": "Python 3 (ipykernel)",
   "language": "python",
   "name": "python3"
  },
  "language_info": {
   "codemirror_mode": {
    "name": "ipython",
    "version": 3
   },
   "file_extension": ".py",
   "mimetype": "text/x-python",
   "name": "python",
   "nbconvert_exporter": "python",
   "pygments_lexer": "ipython3",
   "version": "3.9.7"
  }
 },
 "nbformat": 4,
 "nbformat_minor": 4
}
