{
 "cells": [
  {
   "cell_type": "code",
   "execution_count": 1,
   "metadata": {},
   "outputs": [],
   "source": [
    "from pydrake.systems.framework import DiagramBuilder\n",
    "from pydrake.systems.analysis import Simulator\n",
    "from pydrake.multibody.plant import AddMultibodyPlantSceneGraph, MultibodyPlant\n",
    "from pydrake.multibody.parsing import Parser\n",
    "from pydrake.geometry import Meshcat, MeshcatVisualizerCpp\n",
    "from pydrake.common.eigen_geometry import Quaternion, AngleAxis\n",
    "from pydrake.math import RigidTransform, RotationMatrix\n",
    "from pydrake.trajectories import PiecewisePose, PiecewisePolynomial\n",
    "from pydrake.systems.primitives import TrajectorySource, Multiplexer, ConstantVectorSource\n",
    "\n",
    "import numpy as np\n",
    "\n",
    "from crane_x7_manipulation import crane_x7_station, end_effector_trajectory, meshcat_utils\n",
    "\n",
    "\n",
    "URDF_PATH = 'rsc/crane_x7_description/crane_x7.urdf'"
   ]
  },
  {
   "cell_type": "code",
   "execution_count": 2,
   "metadata": {},
   "outputs": [
    {
     "name": "stderr",
     "output_type": "stream",
     "text": [
      "[2021-10-19 23:46:18.192] [console] [info] Meshcat listening for connections at http://localhost:7000\n"
     ]
    },
    {
     "data": {
      "text/html": [
       "Meshcat is now available at <a href=\"http://localhost:7000\">http://localhost:7000</a>"
      ],
      "text/plain": [
       "<IPython.core.display.HTML object>"
      ]
     },
     "metadata": {},
     "output_type": "display_data"
    },
    {
     "data": {
      "application/javascript": [
       "window.open(\"http://localhost:7000\");"
      ],
      "text/plain": [
       "<IPython.core.display.Javascript object>"
      ]
     },
     "metadata": {},
     "output_type": "display_data"
    }
   ],
   "source": [
    "meshcat = meshcat_utils.start_meshcat(True)"
   ]
  },
  {
   "cell_type": "code",
   "execution_count": 3,
   "metadata": {},
   "outputs": [],
   "source": [
    "def create_model(urdf_path):\n",
    "    station = crane_x7_station.CraneX7Station(urdf_path)\n",
    "    plant, model = station.create_crane_x7_plant()\n",
    "    plant.Finalize()\n",
    "    context = plant.CreateDefaultContext()\n",
    "\n",
    "    plant.SetPositions(context, [-1.57, 0.1, 0, 0, 0, 1.6, 0, 0, 0]) # 7DOF (arm) + 2DOF (gripper)\n",
    "    plant.GetJointByName(\"crane_x7_upper_arm_revolute_part_rotate_joint\").set_angle(context, -1.2)\n",
    "    plant.get_actuation_input_port().FixValue(context, np.zeros(9)) # 7DOF (arm) + 2DOF (gripper)\n",
    "    simulator = Simulator(plant, context)\n",
    "    simulator.AdvanceTo(5.0)"
   ]
  },
  {
   "cell_type": "code",
   "execution_count": 4,
   "metadata": {},
   "outputs": [],
   "source": [
    "create_model(URDF_PATH)"
   ]
  },
  {
   "cell_type": "code",
   "execution_count": 5,
   "metadata": {},
   "outputs": [],
   "source": [
    "def create_model_scene_graph(urdf_path):\n",
    "    builder = DiagramBuilder()\n",
    "\n",
    "    station = crane_x7_station.CraneX7Station(urdf_path)\n",
    "    plant, model, scene_graph = station.create_crane_x7_plant_scene_graph(\n",
    "        builder=builder, time_step=1.0e-03)\n",
    "    plant.Finalize()\n",
    "\n",
    "    visualizer = MeshcatVisualizerCpp.AddToBuilder(builder, scene_graph, meshcat)\n",
    "    diagram = builder.Build()\n",
    "    context = diagram.CreateDefaultContext()\n",
    "    diagram.Publish(context)\n",
    "\n",
    "    plant_context = plant.GetMyMutableContextFromRoot(context)\n",
    "    plant.SetPositions(plant_context, station.get_home_position()) # 7DOF (arm) + 2DOF (gripper)\n",
    "    plant.get_actuation_input_port().FixValue(plant_context, np.zeros(9)) # 7DOF (arm) + 2DOF (gripper)\n",
    "\n",
    "    # real time simulation on \n",
    "    simulator = Simulator(diagram, context)\n",
    "    simulator.set_target_realtime_rate(1.0)\n",
    "    simulator.AdvanceTo(5.0)"
   ]
  },
  {
   "cell_type": "code",
   "execution_count": 6,
   "metadata": {},
   "outputs": [],
   "source": [
    "create_model_scene_graph(URDF_PATH)"
   ]
  },
  {
   "cell_type": "code",
   "execution_count": 9,
   "metadata": {},
   "outputs": [],
   "source": [
    "def make_gripper_frames(X_G, X_O):\n",
    "    # Define the gripper pose relative to the object when in grasp.\n",
    "    p_GgraspO = [0, 0.12, 0]\n",
    "    R_GgraspO = RotationMatrix.MakeXRotation(np.pi/2.0).multiply(RotationMatrix.MakeZRotation(np.pi/2.0))\n",
    "    X_GgraspO = RigidTransform(R_GgraspO, p_GgraspO)\n",
    "    X_OGgrasp = X_GgraspO.inverse()\n",
    "    # pregrasp is negative y in the gripper.\n",
    "    X_GgraspGpregrasp = RigidTransform([0, -0.08, 0])\n",
    "\n",
    "    X_G[\"pick\"] = X_O[\"initial\"].multiply(X_OGgrasp)\n",
    "    X_G[\"prepick\"] = X_G[\"pick\"].multiply(X_GgraspGpregrasp)\n",
    "    X_G[\"place\"] = X_O[\"goal\"].multiply(X_OGgrasp)\n",
    "    X_G[\"preplace\"] = X_G[\"place\"].multiply(X_GgraspGpregrasp)\n",
    "\n",
    "    # I'll interpolate a halfway orientation by converting to axis angle and halving the angle.\n",
    "    X_GprepickGpreplace = X_G[\"prepick\"].inverse().multiply(X_G[\"preplace\"])\n",
    "    angle_axis = X_GprepickGpreplace.rotation().ToAngleAxis()\n",
    "    X_GprepickGclearance = RigidTransform(AngleAxis(angle=angle_axis.angle()/2.0, axis=angle_axis.axis()), \n",
    "                                          X_GprepickGpreplace.translation()/2.0 + np.array([0, -0.3, 0]))\n",
    "    X_G[\"clearance\"] = X_G[\"prepick\"].multiply(X_GprepickGclearance)\n",
    "\n",
    "    # Now let's set the timing\n",
    "    times = {\"initial\": 0}\n",
    "    X_GinitialGprepick = X_G[\"initial\"].inverse().multiply(X_G[\"prepick\"])\n",
    "    times[\"prepick\"] = times[\"initial\"] + 10.0*np.linalg.norm(X_GinitialGprepick.translation())\n",
    "    # Allow some time for the gripper to close.\n",
    "    times[\"pick_start\"] = times[\"prepick\"] + 2.0\n",
    "    times[\"pick_end\"] = times[\"pick_start\"] + 2.0\n",
    "    X_G[\"pick_start\"] = X_G[\"pick\"]\n",
    "    X_G[\"pick_end\"] = X_G[\"pick\"]\n",
    "    times[\"postpick\"] = times[\"pick_end\"] + 2.0\n",
    "    X_G[\"postpick\"] = X_G[\"prepick\"]\n",
    "    time_to_from_clearance = 10.0*np.linalg.norm(X_GprepickGclearance.translation())\n",
    "    times[\"clearance\"] = times[\"postpick\"] + time_to_from_clearance\n",
    "    times[\"preplace\"] = times[\"clearance\"] + time_to_from_clearance\n",
    "    times[\"place_start\"] = times[\"preplace\"] + 2.0\n",
    "    times[\"place_end\"] = times[\"place_start\"] + 2.0\n",
    "    X_G[\"place_start\"] = X_G[\"place\"]\n",
    "    X_G[\"place_end\"] = X_G[\"place\"]\n",
    "    times[\"postplace\"] = times[\"place_end\"] + 2.0\n",
    "    X_G[\"postplace\"] = X_G[\"preplace\"]\n",
    "\n",
    "    return X_G, times\n",
    "\n",
    "\n",
    "def make_gripper_trajectory(X_G, times):\n",
    "    sample_times = []\n",
    "    poses = []\n",
    "    for name in [\"initial\", \"prepick\", \"pick_start\", \"pick_end\", \"postpick\",\n",
    "                 \"clearance\", \"preplace\", \"place_start\", \"place_end\",\n",
    "                 \"postplace\"]:\n",
    "        sample_times.append(times[name])\n",
    "        poses.append(X_G[name])\n",
    "\n",
    "    return PiecewisePose.MakeLinear(sample_times, poses)\n",
    "\n",
    "\n",
    "def create_differential_ik_controller(urdf_path):\n",
    "    builder = DiagramBuilder()\n",
    "\n",
    "    station = crane_x7_station.CraneX7Station(urdf_path)\n",
    "    plant, model, scene_graph = station.create_crane_x7_plant_scene_graph(\n",
    "        builder=builder, time_step=1.0e-03)\n",
    "    plant.Finalize()\n",
    "\n",
    "    visualizer = MeshcatVisualizerCpp.AddToBuilder(builder, scene_graph, meshcat)\n",
    "    diff_ik = builder.AddSystem(station.create_diff_ik())\n",
    "    invdyn_controller = builder.AddSystem(station.create_invdyn_controller())\n",
    "    X_O = {\"initial\": RigidTransform(RotationMatrix.MakeZRotation(np.pi/2.0), [.0, .2, .3]),\n",
    "           \"goal\": RigidTransform(RotationMatrix.MakeZRotation(np.pi), [.2, .2, .3])}\n",
    "    temp_context = plant.CreateDefaultContext()\n",
    "    temp_plant_context = plant.GetMyContextFromRoot(temp_context)\n",
    "    X_G = {\"initial\": plant.EvalBodyPoseInWorld(temp_plant_context, plant.GetBodyByName(station.end_effector_name))}\n",
    "    \n",
    "    gripper_frames, times = make_gripper_frames(X_G, X_O)\n",
    "    print(f\"Sanity check: The entire maneuver will take {times['postplace']} seconds to execute.\")\n",
    "\n",
    "    gripper_traj = make_gripper_trajectory(gripper_frames, times)\n",
    "    \n",
    "    X_WE_traj = builder.AddSystem(end_effector_trajectory.EndEffectorTrajectory(station, gripper_traj))\n",
    "    X_WE_traj.set_name(\"X_WE\")\n",
    "\n",
    "    builder.Connect(X_WE_traj.get_output_port(),\n",
    "                    diff_ik.get_input_port())\n",
    "    desired_state = builder.AddSystem(Multiplexer([9, 9]))\n",
    "    desired_velocity = builder.AddSystem(ConstantVectorSource(np.zeros(9)))\n",
    "    builder.Connect(diff_ik.get_output_port(),\n",
    "                    desired_state.get_input_port(0))\n",
    "    builder.Connect(desired_velocity.get_output_port(),\n",
    "                    desired_state.get_input_port(1))\n",
    "    builder.Connect(desired_state.get_output_port(),\n",
    "                    invdyn_controller.get_input_port_desired_state())\n",
    "    builder.Connect(plant.get_state_output_port(),\n",
    "                    invdyn_controller.get_input_port_estimated_state())\n",
    "    builder.Connect(invdyn_controller.get_output_port_control(), \n",
    "                    plant.get_actuation_input_port())\n",
    "    \n",
    "    diagram = builder.Build()\n",
    "    context = diagram.CreateDefaultContext()\n",
    "    diagram.Publish(context)\n",
    "    plant_context = plant.GetMyMutableContextFromRoot(context)\n",
    "    plant.SetPositions(plant_context, station.get_home_position()) \n",
    "    diff_ik_context = diff_ik.GetMyMutableContextFromRoot(context)\n",
    "    diff_ik.SetPositions(diff_ik_context, station.get_home_position()) \n",
    "\n",
    "    simulator = Simulator(diagram, context)\n",
    "    simulator.set_target_realtime_rate(1.0)\n",
    "    \n",
    "    simulator.AdvanceTo(30.0)"
   ]
  },
  {
   "cell_type": "code",
   "execution_count": 10,
   "metadata": {},
   "outputs": [
    {
     "name": "stdout",
     "output_type": "stream",
     "text": [
      "Sanity check: The entire maneuver will take 20.677765893149996 seconds to execute.\n"
     ]
    },
    {
     "name": "stderr",
     "output_type": "stream",
     "text": [
      "[2021-10-19 23:47:23.724] [console] [warning] Differential IK started returning status:\"stuck\" at time 9.109.\n",
      "[2021-10-19 23:47:28.116] [console] [warning] Differential IK started finding solutions again at time 12.243.\n",
      "[2021-10-19 23:47:28.118] [console] [warning] Differential IK started returning status:\"stuck\" at time 12.244.\n",
      "[2021-10-19 23:47:29.360] [console] [warning] Differential IK started finding solutions again at time 13.134.\n",
      "[2021-10-19 23:47:31.337] [console] [warning] Differential IK started returning status:\"stuck\" at time 14.148.\n",
      "[2021-10-19 23:47:31.340] [console] [warning] Differential IK started finding solutions again at time 14.149000000000001.\n",
      "[2021-10-19 23:47:31.517] [console] [warning] Differential IK started returning status:\"stuck\" at time 14.325000000000001.\n",
      "[2021-10-19 23:47:31.519] [console] [warning] Differential IK started finding solutions again at time 14.326.\n",
      "[2021-10-19 23:47:31.522] [console] [warning] Differential IK started returning status:\"stuck\" at time 14.328000000000001.\n",
      "[2021-10-19 23:47:31.527] [console] [warning] Differential IK started finding solutions again at time 14.33.\n",
      "[2021-10-19 23:47:31.644] [console] [warning] Differential IK started returning status:\"stuck\" at time 14.413.\n",
      "[2021-10-19 23:47:31.647] [console] [warning] Differential IK started finding solutions again at time 14.415000000000001.\n",
      "[2021-10-19 23:47:31.686] [console] [warning] Differential IK started returning status:\"stuck\" at time 14.446.\n",
      "[2021-10-19 23:47:31.688] [console] [warning] Differential IK started finding solutions again at time 14.447000000000001.\n",
      "[2021-10-19 23:47:31.712] [console] [warning] Differential IK started returning status:\"stuck\" at time 14.463000000000001.\n",
      "[2021-10-19 23:47:31.715] [console] [warning] Differential IK started finding solutions again at time 14.464.\n",
      "[2021-10-19 23:47:31.722] [console] [warning] Differential IK started returning status:\"stuck\" at time 14.467.\n",
      "[2021-10-19 23:47:31.727] [console] [warning] Differential IK started finding solutions again at time 14.468.\n",
      "[2021-10-19 23:47:31.731] [console] [warning] Differential IK started returning status:\"stuck\" at time 14.469.\n",
      "[2021-10-19 23:47:31.742] [console] [warning] Differential IK started finding solutions again at time 14.47.\n",
      "[2021-10-19 23:47:31.752] [console] [warning] Differential IK started returning status:\"stuck\" at time 14.471.\n",
      "[2021-10-19 23:47:31.789] [console] [warning] Differential IK started returning status:\"no solution\" at time 14.476.\n",
      "[2021-10-19 23:47:31.796] [console] [warning] Differential IK started finding solutions again at time 14.479000000000001.\n",
      "[2021-10-19 23:47:31.817] [console] [warning] Differential IK started returning status:\"stuck\" at time 14.48.\n",
      "[2021-10-19 23:47:31.834] [console] [warning] Differential IK started returning status:\"no solution\" at time 14.482000000000001.\n",
      "[2021-10-19 23:47:31.846] [console] [warning] Differential IK started finding solutions again at time 14.486.\n",
      "[2021-10-19 23:47:31.853] [console] [warning] Differential IK started returning status:\"no solution\" at time 14.487.\n",
      "[2021-10-19 23:47:31.872] [console] [warning] Differential IK started finding solutions again at time 14.488.\n",
      "[2021-10-19 23:47:31.882] [console] [warning] Differential IK started returning status:\"stuck\" at time 14.489.\n",
      "[2021-10-19 23:47:31.908] [console] [warning] Differential IK started returning status:\"no solution\" at time 14.492.\n",
      "[2021-10-19 23:47:31.921] [console] [warning] Differential IK started returning status:\"stuck\" at time 14.493.\n",
      "[2021-10-19 23:47:31.941] [console] [warning] Differential IK started finding solutions again at time 14.494.\n",
      "[2021-10-19 23:47:31.954] [console] [warning] Differential IK started returning status:\"stuck\" at time 14.495000000000001.\n",
      "[2021-10-19 23:47:31.996] [console] [warning] Differential IK started returning status:\"no solution\" at time 14.499.\n",
      "[2021-10-19 23:47:32.016] [console] [warning] Differential IK started finding solutions again at time 14.505.\n",
      "[2021-10-19 23:47:32.027] [console] [warning] Differential IK started returning status:\"no solution\" at time 14.506.\n",
      "[2021-10-19 23:47:32.038] [console] [warning] Differential IK started finding solutions again at time 14.51.\n",
      "[2021-10-19 23:47:32.053] [console] [warning] Differential IK started returning status:\"no solution\" at time 14.511000000000001.\n",
      "[2021-10-19 23:47:32.079] [console] [warning] Differential IK started finding solutions again at time 14.516.\n",
      "[2021-10-19 23:47:32.103] [console] [warning] Differential IK started returning status:\"no solution\" at time 14.518.\n",
      "[2021-10-19 23:47:32.136] [console] [warning] Differential IK started finding solutions again at time 14.524000000000001.\n",
      "[2021-10-19 23:47:32.144] [console] [warning] Differential IK started returning status:\"no solution\" at time 14.525.\n",
      "[2021-10-19 23:47:32.155] [console] [warning] Differential IK started finding solutions again at time 14.526.\n",
      "[2021-10-19 23:47:32.172] [console] [warning] Differential IK started returning status:\"no solution\" at time 14.527000000000001.\n",
      "[2021-10-19 23:47:32.182] [console] [warning] Differential IK started returning status:\"stuck\" at time 14.528.\n",
      "[2021-10-19 23:47:32.194] [console] [warning] Differential IK started returning status:\"no solution\" at time 14.529.\n",
      "[2021-10-19 23:47:32.225] [console] [warning] Differential IK started finding solutions again at time 14.537.\n",
      "[2021-10-19 23:47:32.234] [console] [warning] Differential IK started returning status:\"stuck\" at time 14.538.\n"
     ]
    }
   ],
   "source": [
    "create_differential_ik_controller(URDF_PATH)"
   ]
  },
  {
   "cell_type": "code",
   "execution_count": null,
   "metadata": {},
   "outputs": [],
   "source": []
  }
 ],
 "metadata": {
  "interpreter": {
   "hash": "aee8b7b246df8f9039afb4144a1f6fd8d2ca17a180786b69acc140d282b71a49"
  },
  "kernelspec": {
   "display_name": "Python 3 (ipykernel)",
   "language": "python",
   "name": "python3"
  },
  "language_info": {
   "codemirror_mode": {
    "name": "ipython",
    "version": 3
   },
   "file_extension": ".py",
   "mimetype": "text/x-python",
   "name": "python",
   "nbconvert_exporter": "python",
   "pygments_lexer": "ipython3",
   "version": "3.9.7"
  }
 },
 "nbformat": 4,
 "nbformat_minor": 4
}
